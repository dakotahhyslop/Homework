{
 "cells": [
  {
   "cell_type": "markdown",
   "id": "0b6c9b90",
   "metadata": {},
   "source": [
    "#Dakotah Hyslop\n",
    "##Week5-Homework"
   ]
  },
  {
   "cell_type": "code",
   "execution_count": 72,
   "id": "106f4d30",
   "metadata": {},
   "outputs": [
    {
     "name": "stdout",
     "output_type": "stream",
     "text": [
      "\u001b[1m1. What does Pandas stand for?\n"
     ]
    }
   ],
   "source": [
    "print('\\033[1m'+\"1. What does Pandas stand for?\")"
   ]
  },
  {
   "cell_type": "markdown",
   "id": "72831de3",
   "metadata": {},
   "source": [
    "- Panel Data"
   ]
  },
  {
   "cell_type": "code",
   "execution_count": 75,
   "id": "6a7fa280",
   "metadata": {},
   "outputs": [
    {
     "name": "stdout",
     "output_type": "stream",
     "text": [
      "\u001b[1m2. What are the 2 collections used in Pandas?\n"
     ]
    }
   ],
   "source": [
    "print('\\033[1m'+\"2. What are the 2 collections used in Pandas?\")"
   ]
  },
  {
   "cell_type": "markdown",
   "id": "40c85455",
   "metadata": {},
   "source": [
    "- DataFrames and Series."
   ]
  },
  {
   "cell_type": "code",
   "execution_count": 76,
   "id": "ea726c55",
   "metadata": {},
   "outputs": [
    {
     "name": "stdout",
     "output_type": "stream",
     "text": [
      "\u001b[1m3. Name 4 things Pandas can do for us.\n"
     ]
    }
   ],
   "source": [
    "print('\\033[1m'+\"3. Name 4 things Pandas can do for us.\")"
   ]
  },
  {
   "cell_type": "markdown",
   "id": "7710b31c",
   "metadata": {},
   "source": [
    "- Data cleansing, Data normalization, Data visualization, and Data inspection."
   ]
  },
  {
   "cell_type": "code",
   "execution_count": 84,
   "id": "bd020c86",
   "metadata": {},
   "outputs": [
    {
     "name": "stdout",
     "output_type": "stream",
     "text": [
      "\u001b[1m4. To permanently sort a DataFrame, which keyword should one use with the df.sort method?\n"
     ]
    }
   ],
   "source": [
    "print('\\033[1m'+\"4. To permanently sort a DataFrame, which keyword should one use with the df.sort method?\")"
   ]
  },
  {
   "cell_type": "markdown",
   "id": "16b50705",
   "metadata": {},
   "source": [
    "- \"by\""
   ]
  },
  {
   "cell_type": "code",
   "execution_count": 85,
   "id": "37989cd2",
   "metadata": {},
   "outputs": [
    {
     "name": "stdout",
     "output_type": "stream",
     "text": [
      "\u001b[1m5. What is a CSV?\n"
     ]
    }
   ],
   "source": [
    "print('\\033[1m'+\"5. What is a CSV?\")"
   ]
  },
  {
   "cell_type": "markdown",
   "id": "06e8962c",
   "metadata": {},
   "source": [
    "- A CSV(comma seperated files) is a file that can store big data sets containing plain text. "
   ]
  },
  {
   "cell_type": "code",
   "execution_count": 86,
   "id": "344bb312",
   "metadata": {},
   "outputs": [
    {
     "name": "stdout",
     "output_type": "stream",
     "text": [
      "\u001b[1m6. When cleaning data what values do we not like in our data?\n"
     ]
    }
   ],
   "source": [
    "print('\\033[1m'+\"6. When cleaning data what values do we not like in our data?\")"
   ]
  },
  {
   "cell_type": "markdown",
   "id": "fe299eb5",
   "metadata": {},
   "source": [
    "- Missing, wrong, or corrupt data values."
   ]
  },
  {
   "cell_type": "code",
   "execution_count": 18,
   "id": "02075a8a",
   "metadata": {},
   "outputs": [
    {
     "name": "stdout",
     "output_type": "stream",
     "text": [
      "\n",
      "reshaped_Array:  \n",
      " [[[1 2]\n",
      "  [3 4]\n",
      "  [5 6]]\n",
      "\n",
      " [[1 2]\n",
      "  [3 4]\n",
      "  [5 6]]]\n"
     ]
    }
   ],
   "source": [
    "\"\"\"\n",
    "7. Import NumPy, use one of the NumPy methods and create an array with a shape of ... (2, 3, 2). \n",
    "You can use the reshape method -- .reshape()\n",
    "\"\"\"\n",
    "\n",
    "import numpy as np\n",
    "first_Array = np.array(\n",
    "    [\n",
    "        [[1, 2], [3, 4], [5, 6]],\n",
    "        [[1, 2], [3, 4], [5, 6]],\n",
    "    ]\n",
    ")\n",
    "reshaped_Array = first_Array.reshape(2, 3, 2)\n",
    "print(\"\\nreshaped_Array:  \\n\", reshaped_Array)"
   ]
  },
  {
   "cell_type": "code",
   "execution_count": 34,
   "id": "b82b207a",
   "metadata": {},
   "outputs": [
    {
     "name": "stdout",
     "output_type": "stream",
     "text": [
      "[ 0.  4.  8. 12. 16. 20.]\n"
     ]
    }
   ],
   "source": [
    "\"\"\"\n",
    "8. Use NumPy .linspace() to create an array with 6 linearly spaced values between 0 and 20\n",
    "\"\"\"\n",
    "another_Array = np.linspace(0, 20, num=6,)\n",
    "print(another_Array)"
   ]
  },
  {
   "cell_type": "code",
   "execution_count": 39,
   "id": "692035df",
   "metadata": {},
   "outputs": [
    {
     "name": "stdout",
     "output_type": "stream",
     "text": [
      "deepest_cpy_Array\n",
      " [ 0.  4.  8. 12. 16. 20.]\n",
      "another__Array\n",
      " [ 0.  4.  8. 12. 16. 20.]\n"
     ]
    }
   ],
   "source": [
    "\"\"\"\n",
    "9. Make a Deep Copy of the above array\n",
    "\"\"\"\n",
    "import copy\n",
    "deepest_cpy_Array = copy.deepcopy(another_Array)\n",
    "\n",
    "print(\"deepest_cpy_Array\\n\", deepest_cpy_Array)\n",
    "print(\"another__Array\\n\", another_Array)"
   ]
  },
  {
   "cell_type": "code",
   "execution_count": 50,
   "id": "5de0be73",
   "metadata": {},
   "outputs": [
    {
     "name": "stdout",
     "output_type": "stream",
     "text": [
      "newArray... [[25 16]\n",
      " [11  2]\n",
      " [13  4]\n",
      " [ 7 81]\n",
      " [ 5  6]\n",
      " [11 12]]\n"
     ]
    }
   ],
   "source": [
    "\"\"\"\n",
    "11. Concatenate these 3 arrays into a new array named 'newArray'...\n",
    "\n",
    "        ([[25, 16]])\n",
    "        ([[11, 2], [13, 4]])\n",
    "        ([[7, 81], [5, 6], [11, 12]])\n",
    "\"\"\"\n",
    "\n",
    "one_Array = np.array([[25, 16]])\n",
    "two_Array = np.array([[11, 2], [13, 4]])\n",
    "three_Array = np.array([[7, 81], [5, 6], [11, 12]])\n",
    "\n",
    "newArray = np.concatenate((one_Array, two_Array, three_Array))\n",
    "print(\"newArray   \", con_cat_Array)"
   ]
  },
  {
   "cell_type": "code",
   "execution_count": 72,
   "id": "a3f1331c",
   "metadata": {},
   "outputs": [
    {
     "name": "stdout",
     "output_type": "stream",
     "text": [
      "sortedArray...\n",
      " [[ 5  2]\n",
      " [ 7  4]\n",
      " [11  6]\n",
      " [11 12]\n",
      " [13 16]\n",
      " [25 81]]\n"
     ]
    }
   ],
   "source": [
    "\"\"\"\n",
    "12. Sort 'newArray' in order into 'sortedArray'\n",
    "\"\"\"\n",
    "sortedArray = newArray\n",
    "print(\"sortedArray...\\n\", np.sort(sortedArray, axis=0, kind=None, order=None))"
   ]
  },
  {
   "cell_type": "code",
   "execution_count": 90,
   "id": "ab91a089",
   "metadata": {},
   "outputs": [
    {
     "name": "stdout",
     "output_type": "stream",
     "text": [
      "\n",
      "reshapedArray ...\n",
      " [[[25 16 11]\n",
      "  [ 2 13  4]]\n",
      "\n",
      " [[ 7 81  5]\n",
      "  [ 6 11 12]]]\n"
     ]
    }
   ],
   "source": [
    "\"\"\"\n",
    "13. Reshape the 'sortedArray' array, into a new array called 'reshapedArray', so it has 2 dimensions with a size of 2, 3.\n",
    "\"\"\"\n",
    "#(2, 2, 3)\n",
    "\n",
    "reshapedArray = sortedArray\n",
    "\n",
    "reshapedArray = np.reshape(sortedArray, (2, 2, 3))\n",
    "print(\"\\nreshapedArray ...\\n\", reshapedArray)"
   ]
  },
  {
   "cell_type": "code",
   "execution_count": 121,
   "id": "8d3a18a9",
   "metadata": {},
   "outputs": [
    {
     "name": "stdout",
     "output_type": "stream",
     "text": [
      "var_1 =  (25, 16, 11)\n",
      "var_2 =  (2, 13, 4)\n",
      "var_3 =  (7, 81, 5)\n",
      "var_4 =  (6, 11, 12)\n"
     ]
    }
   ],
   "source": [
    "\"\"\"\n",
    "14. Unpack the array tuples from the above 'reshapedArray' into 4 well named variables. Print the 4 variables.\n",
    "\"\"\"\n",
    "[[[a, b, c],\n",
    "  [ d, e,  f,]],\n",
    "\n",
    " [[ g, h,  i,],\n",
    "  [ j, k, l]]] = reshapedArray\n",
    "\n",
    "\n",
    "var_1 = (a, b, c)\n",
    "var_2 = (d, e, f)\n",
    "var_3 = (g, h, i)\n",
    "var_4 = (j, k, l)\n",
    "\n",
    "\n",
    "print(\"var_1 = \", var_1)\n",
    "print(\"var_2 = \", var_2)\n",
    "print(\"var_3 = \", var_3)\n",
    "print(\"var_4 = \", var_4)\n"
   ]
  },
  {
   "cell_type": "code",
   "execution_count": 7,
   "id": "198d1703",
   "metadata": {},
   "outputs": [
    {
     "name": "stdout",
     "output_type": "stream",
     "text": [
      "comboArray    [10 11 12 13 14 15 16 17 20 21 22 23 24 25 26 27  0  1  2  3  4  5  6  7]\n",
      "sorted_combo_Array...\n",
      " [ 0  1  2  3  4  5  6  7 10 11 12 13 14 15 16 17 20 21 22 23 24 25 26 27]\n"
     ]
    }
   ],
   "source": [
    "\"\"\"\n",
    "15. Combined and sort the following arrays into one called 'comboArray' ...\n",
    "\n",
    "    one = ([10, 11, 12, 13, 14, 15, 16, 17])\n",
    "    two = ([20, 21, 22, 23, 24, 25, 26, 27])\n",
    "    three = ([ 0, 1, 2, 3, 4, 5, 6, 7])\n",
    "\"\"\"\n",
    "import numpy as np\n",
    "onee_Array = np.array([10, 11, 12, 13, 14, 15, 16, 17])\n",
    "twoo_Array = np.array([20, 21, 22, 23, 24, 25, 26, 27])\n",
    "threee_Array = np.array([ 0, 1, 2, 3, 4, 5, 6, 7])\n",
    "\n",
    "comboArray = np.concatenate((onee_Array, twoo_Array, threee_Array))\n",
    "print(\"comboArray   \", comboArray)\n",
    "\n",
    "print(\"sorted_combo_Array...\\n\", np.sort(comboArray, axis=0, kind=None, order=None))"
   ]
  },
  {
   "cell_type": "code",
   "execution_count": 33,
   "id": "2fc20bc1",
   "metadata": {},
   "outputs": [
    {
     "name": "stdout",
     "output_type": "stream",
     "text": [
      "sec1:  1\n",
      "sec2:  [25 26 27]\n",
      "sec3:  [ 3  4  5  6  7 10 11 12 13 14 15]\n",
      "sec4:  [22 23 24 25 26 27]\n",
      "sec5:  [ 0  1  2  3  4  5  6  7 10 11 12 13 14 15]\n",
      "sec6:  [24, 26]\n",
      "sec7: If you meant moving backward.  [27, 22, 15, 10, 3]\n",
      "sec7: If you meant from the first  [0, 5, 12, 17, 24]\n",
      "[ 0  1  2  3  4  5  6  7 10 11 12 13 14 15 16 17 20 21 22 23 24 25 26 27]\n"
     ]
    }
   ],
   "source": [
    "\"\"\"\n",
    "16. Take 'comboArray' and perform the following slicing activities:\n",
    "\"\"\"\n",
    "# print sec1 - the 2nd element\n",
    "data = np.sort(comboArray, axis=0, kind=None, order=None)\n",
    "\n",
    "sec1 = data[1]\n",
    "print(\"sec1: \", sec1)\n",
    " \n",
    "# print sec2 - all elements from the 3rd element to the last\n",
    "\n",
    "sec2 = data[-3:]\n",
    "print(\"sec2: \", sec2)\n",
    "\n",
    "# print sec3 - all elements from the 4th to the 14th elements\n",
    "\n",
    "sec3 = data[3:14]\n",
    "print(\"sec3: \", sec3)\n",
    "\n",
    "# print sec4 - the last 6 elements\n",
    "\n",
    "sec4 = data[-6:]\n",
    "print(\"sec4: \", sec4)\n",
    "\n",
    "# print sec5 - all element from #0 up to and including #15, using the negative number method,i.e. taking a section from the end.\n",
    "\n",
    "sec5 = data[:-10]\n",
    "print(\"sec5: \", sec5)\n",
    "\n",
    "# print sec6 - from #20 every even element to the end\n",
    "\n",
    "even = []\n",
    "for i in data[20:]:\n",
    "        if i % 2 == 0:\n",
    "            even.append(i)\n",
    "sec6 = even\n",
    "print(\"sec6: \", sec6)\n",
    "\n",
    "# print sec7 - from the last element moving forward, every 5th element.\n",
    "# If you meant moving backward.\n",
    "fifth = []\n",
    "for i in data[-1::-5]:\n",
    "            fifth.append(i)\n",
    "sec7 = fifth\n",
    "print(\"sec7: If you meant moving backward. \", sec7)\n",
    "\n",
    "# If you meant from the first\n",
    "fifth = []\n",
    "for i in data[::5]:\n",
    "            fifth.append(i)\n",
    "sec7 = fifth\n",
    "print(\"sec7: If you meant from the first \", sec7)\n",
    "\n",
    "\n",
    "print(data)"
   ]
  },
  {
   "cell_type": "code",
   "execution_count": 58,
   "id": "8ebcb3e1",
   "metadata": {},
   "outputs": [
    {
     "name": "stdout",
     "output_type": "stream",
     "text": [
      "\n",
      "     Dinner Ingredients List   \n",
      "   Ingredients  Quantity  Units\n",
      "0       Flour         4   cups\n",
      "1        Milk         1    cup\n",
      "2        Eggs         2  large\n",
      "3        Spam         1    can\n"
     ]
    },
    {
     "name": "stderr",
     "output_type": "stream",
     "text": [
      "C:\\Users\\hyslo\\AppData\\Local\\Temp\\ipykernel_14572\\2471438544.py:14: FutureWarning: The series.append method is deprecated and will be removed from pandas in a future version. Use pandas.concat instead.\n",
      "  all_ingredients = pd.DataFrame(ingredients_a.append(ingredients_b,\n",
      "C:\\Users\\hyslo\\AppData\\Local\\Temp\\ipykernel_14572\\2471438544.py:21: FutureWarning: The series.append method is deprecated and will be removed from pandas in a future version. Use pandas.concat instead.\n",
      "  all_quantities = pd.DataFrame(quantity_a.append(quantity_b,\n",
      "C:\\Users\\hyslo\\AppData\\Local\\Temp\\ipykernel_14572\\2471438544.py:29: FutureWarning: The series.append method is deprecated and will be removed from pandas in a future version. Use pandas.concat instead.\n",
      "  all_units = pd.DataFrame(unit_a.append(unit_b,\n"
     ]
    }
   ],
   "source": [
    "\"\"\"\n",
    "20. Using Series, create a DataFrame that looks like this:\n",
    "\n",
    "Ingredients\tQuantity\tUnit\n",
    "Flour\t4\tcups\n",
    "Milk\t1\tcup\n",
    "Eggs\t2\tlarge\n",
    "Spam\t1\tcan\n",
    "Name: Dinner, dtype: object\n",
    "\"\"\"\n",
    "import pandas as pd\n",
    "ingredients_a = pd.Series([\"Flour\", \"Milk\", \"Eggs\"])\n",
    "ingredients_b = pd.Series([\"Spam\"])\n",
    "all_ingredients = pd.DataFrame(ingredients_a.append(ingredients_b,\n",
    "                                                    ignore_index = True),\n",
    "                               columns=[\"Ingredients\"])\n",
    "# print(all_ingredients)\n",
    "\n",
    "quantity_a = pd.Series([4,1,2])\n",
    "quantity_b = pd.Series([1])\n",
    "all_quantities = pd.DataFrame(quantity_a.append(quantity_b,\n",
    "                                                    ignore_index = True),\n",
    "                               columns=[\"Quantity\"])\n",
    "# print(all_quantities)\n",
    "\n",
    "\n",
    "unit_a = pd.Series([\"cups\", \"cup\", \"large\"])\n",
    "unit_b = pd.Series([\"can\"])\n",
    "all_units = pd.DataFrame(unit_a.append(unit_b,\n",
    "                                                    ignore_index = True),\n",
    "                               columns=[\"Units\"])\n",
    "# print(all_units)\n",
    "\n",
    "\n",
    "# Combine multiple Series\n",
    "dinner = pd.concat([all_ingredients, all_quantities, all_units], axis=1)\n",
    "print(\"\\n     Dinner Ingredients List   \\n\", dinner)"
   ]
  },
  {
   "cell_type": "code",
   "execution_count": 36,
   "id": "437781e9",
   "metadata": {},
   "outputs": [
    {
     "data": {
      "text/html": [
       "<div>\n",
       "<style scoped>\n",
       "    .dataframe tbody tr th:only-of-type {\n",
       "        vertical-align: middle;\n",
       "    }\n",
       "\n",
       "    .dataframe tbody tr th {\n",
       "        vertical-align: top;\n",
       "    }\n",
       "\n",
       "    .dataframe thead th {\n",
       "        text-align: right;\n",
       "    }\n",
       "</style>\n",
       "<table border=\"1\" class=\"dataframe\">\n",
       "  <thead>\n",
       "    <tr style=\"text-align: right;\">\n",
       "      <th></th>\n",
       "      <th>Name</th>\n",
       "      <th>Height</th>\n",
       "      <th>Qualification</th>\n",
       "      <th>address</th>\n",
       "      <th>Age</th>\n",
       "      <th>Pets</th>\n",
       "      <th>sport</th>\n",
       "    </tr>\n",
       "  </thead>\n",
       "  <tbody>\n",
       "    <tr>\n",
       "      <th>0</th>\n",
       "      <td>Jai</td>\n",
       "      <td>5.1</td>\n",
       "      <td>Msc</td>\n",
       "      <td>Delhi</td>\n",
       "      <td>21</td>\n",
       "      <td>Dog</td>\n",
       "      <td>Darts</td>\n",
       "    </tr>\n",
       "    <tr>\n",
       "      <th>1</th>\n",
       "      <td>janusha</td>\n",
       "      <td>6.2</td>\n",
       "      <td>MA</td>\n",
       "      <td>Doha</td>\n",
       "      <td>23</td>\n",
       "      <td>Bunny</td>\n",
       "      <td>Basketball</td>\n",
       "    </tr>\n",
       "    <tr>\n",
       "      <th>2</th>\n",
       "      <td>Gaurav</td>\n",
       "      <td>5.1</td>\n",
       "      <td>Msc</td>\n",
       "      <td>Chennai</td>\n",
       "      <td>24</td>\n",
       "      <td>Chinchilla</td>\n",
       "      <td>PaddleBoarding</td>\n",
       "    </tr>\n",
       "    <tr>\n",
       "      <th>3</th>\n",
       "      <td>Anuj</td>\n",
       "      <td>5.2</td>\n",
       "      <td>Msc</td>\n",
       "      <td>Dakhar</td>\n",
       "      <td>21</td>\n",
       "      <td>Parrot</td>\n",
       "      <td>Cricket</td>\n",
       "    </tr>\n",
       "  </tbody>\n",
       "</table>\n",
       "</div>"
      ],
      "text/plain": [
       "      Name  Height Qualification  address  Age        Pets           sport\n",
       "0      Jai     5.1           Msc    Delhi   21         Dog           Darts\n",
       "1  janusha     6.2            MA     Doha   23       Bunny      Basketball\n",
       "2   Gaurav     5.1           Msc  Chennai   24  Chinchilla  PaddleBoarding\n",
       "3     Anuj     5.2           Msc   Dakhar   21      Parrot         Cricket"
      ]
     },
     "execution_count": 36,
     "metadata": {},
     "output_type": "execute_result"
    }
   ],
   "source": [
    "\"\"\"\n",
    "21. Take this data and create a DataFrame named studentData\n",
    "\n",
    "    {'Name': ['Jai', 'janusha', 'Gaurav', 'Anuj'],\n",
    "        'Height': [5.1, 6.2, 5.1, 5.2],\n",
    "        'Qualification': ['Msc', 'MA', 'Msc', 'Msc'],\n",
    "        'address': ['Delhi', 'Doha', 'Chennai', 'Dakhar'],\n",
    "        'Age': [21, 23, 24, 21],\n",
    "        'Pets': ['Dog', 'Bunny', 'Chinchilla', 'Parrot'],\n",
    "        'sport': ['Darts', 'Basketball', 'PaddleBoarding', 'Cricket']\n",
    "\"\"\"\n",
    "\n",
    "import pandas as pd\n",
    "data_dict = {'Name': ['Jai', 'janusha', 'Gaurav', 'Anuj'],\n",
    "        'Height': [5.1, 6.2, 5.1, 5.2],\n",
    "        'Qualification': ['Msc', 'MA', 'Msc', 'Msc'],\n",
    "        'address': ['Delhi', 'Doha', 'Chennai', 'Dakhar'],\n",
    "        'Age': [21, 23, 24, 21],\n",
    "        'Pets': ['Dog', 'Bunny', 'Chinchilla', 'Parrot'],\n",
    "        'sport': ['Darts', 'Basketball', 'PaddleBoarding', 'Cricket']\n",
    "    }\n",
    "\n",
    "studentData = pd.DataFrame(data_dict)\n",
    "studentData"
   ]
  },
  {
   "cell_type": "code",
   "execution_count": 59,
   "id": "d06d5e4a",
   "metadata": {},
   "outputs": [
    {
     "data": {
      "text/html": [
       "<div>\n",
       "<style scoped>\n",
       "    .dataframe tbody tr th:only-of-type {\n",
       "        vertical-align: middle;\n",
       "    }\n",
       "\n",
       "    .dataframe tbody tr th {\n",
       "        vertical-align: top;\n",
       "    }\n",
       "\n",
       "    .dataframe thead th {\n",
       "        text-align: right;\n",
       "    }\n",
       "</style>\n",
       "<table border=\"1\" class=\"dataframe\">\n",
       "  <thead>\n",
       "    <tr style=\"text-align: right;\">\n",
       "      <th></th>\n",
       "      <th>Name</th>\n",
       "      <th>Height</th>\n",
       "      <th>Qualification</th>\n",
       "      <th>address</th>\n",
       "      <th>Age</th>\n",
       "      <th>Pets</th>\n",
       "      <th>sport</th>\n",
       "      <th>Deserts</th>\n",
       "    </tr>\n",
       "  </thead>\n",
       "  <tbody>\n",
       "    <tr>\n",
       "      <th>0</th>\n",
       "      <td>Jai</td>\n",
       "      <td>5.1</td>\n",
       "      <td>Msc</td>\n",
       "      <td>Delhi</td>\n",
       "      <td>21</td>\n",
       "      <td>Dog</td>\n",
       "      <td>Darts</td>\n",
       "      <td>ice cream</td>\n",
       "    </tr>\n",
       "    <tr>\n",
       "      <th>1</th>\n",
       "      <td>janusha</td>\n",
       "      <td>6.2</td>\n",
       "      <td>MA</td>\n",
       "      <td>Doha</td>\n",
       "      <td>23</td>\n",
       "      <td>Bunny</td>\n",
       "      <td>Basketball</td>\n",
       "      <td>Cashew Fudge</td>\n",
       "    </tr>\n",
       "    <tr>\n",
       "      <th>2</th>\n",
       "      <td>Gaurav</td>\n",
       "      <td>5.1</td>\n",
       "      <td>Msc</td>\n",
       "      <td>Chennai</td>\n",
       "      <td>24</td>\n",
       "      <td>Chinchilla</td>\n",
       "      <td>PaddleBoarding</td>\n",
       "      <td>waffels</td>\n",
       "    </tr>\n",
       "    <tr>\n",
       "      <th>3</th>\n",
       "      <td>Anuj</td>\n",
       "      <td>5.2</td>\n",
       "      <td>Msc</td>\n",
       "      <td>Dakhar</td>\n",
       "      <td>21</td>\n",
       "      <td>Parrot</td>\n",
       "      <td>Cricket</td>\n",
       "      <td>Carrot Halwa</td>\n",
       "    </tr>\n",
       "  </tbody>\n",
       "</table>\n",
       "</div>"
      ],
      "text/plain": [
       "      Name  Height Qualification  address  Age        Pets           sport  \\\n",
       "0      Jai     5.1           Msc    Delhi   21         Dog           Darts   \n",
       "1  janusha     6.2            MA     Doha   23       Bunny      Basketball   \n",
       "2   Gaurav     5.1           Msc  Chennai   24  Chinchilla  PaddleBoarding   \n",
       "3     Anuj     5.2           Msc   Dakhar   21      Parrot         Cricket   \n",
       "\n",
       "        Deserts  \n",
       "0     ice cream  \n",
       "1  Cashew Fudge  \n",
       "2       waffels  \n",
       "3  Carrot Halwa  "
      ]
     },
     "execution_count": 59,
     "metadata": {},
     "output_type": "execute_result"
    }
   ],
   "source": [
    "\"\"\"\n",
    "22. Add a new column to the DataFrame with the following deserts: [\"ice cream\", \"Cashew Fudge\", \"waffels\", \"Carrot Halwa\"]\n",
    "\"\"\"\n",
    "deserts = [\"ice cream\", \"Cashew Fudge\", \"waffels\", \"Carrot Halwa\"]\n",
    "studentData[\"Deserts\"] = deserts\n",
    "studentData\n"
   ]
  },
  {
   "cell_type": "code",
   "execution_count": 62,
   "id": "15a4dc71",
   "metadata": {},
   "outputs": [
    {
     "data": {
      "text/html": [
       "<div>\n",
       "<style scoped>\n",
       "    .dataframe tbody tr th:only-of-type {\n",
       "        vertical-align: middle;\n",
       "    }\n",
       "\n",
       "    .dataframe tbody tr th {\n",
       "        vertical-align: top;\n",
       "    }\n",
       "\n",
       "    .dataframe thead th {\n",
       "        text-align: right;\n",
       "    }\n",
       "</style>\n",
       "<table border=\"1\" class=\"dataframe\">\n",
       "  <thead>\n",
       "    <tr style=\"text-align: right;\">\n",
       "      <th></th>\n",
       "      <th>Name</th>\n",
       "      <th>Height</th>\n",
       "      <th>Qualification</th>\n",
       "      <th>address</th>\n",
       "      <th>Age</th>\n",
       "      <th>Pets</th>\n",
       "      <th>sport</th>\n",
       "      <th>Deserts</th>\n",
       "    </tr>\n",
       "  </thead>\n",
       "  <tbody>\n",
       "    <tr>\n",
       "      <th>3</th>\n",
       "      <td>Anuj</td>\n",
       "      <td>5.2</td>\n",
       "      <td>Msc</td>\n",
       "      <td>Dakhar</td>\n",
       "      <td>21</td>\n",
       "      <td>Parrot</td>\n",
       "      <td>Cricket</td>\n",
       "      <td>Carrot Halwa</td>\n",
       "    </tr>\n",
       "    <tr>\n",
       "      <th>2</th>\n",
       "      <td>Gaurav</td>\n",
       "      <td>5.1</td>\n",
       "      <td>Msc</td>\n",
       "      <td>Chennai</td>\n",
       "      <td>24</td>\n",
       "      <td>Chinchilla</td>\n",
       "      <td>PaddleBoarding</td>\n",
       "      <td>waffels</td>\n",
       "    </tr>\n",
       "    <tr>\n",
       "      <th>0</th>\n",
       "      <td>Jai</td>\n",
       "      <td>5.1</td>\n",
       "      <td>Msc</td>\n",
       "      <td>Delhi</td>\n",
       "      <td>21</td>\n",
       "      <td>Dog</td>\n",
       "      <td>Darts</td>\n",
       "      <td>ice cream</td>\n",
       "    </tr>\n",
       "    <tr>\n",
       "      <th>1</th>\n",
       "      <td>janusha</td>\n",
       "      <td>6.2</td>\n",
       "      <td>MA</td>\n",
       "      <td>Doha</td>\n",
       "      <td>23</td>\n",
       "      <td>Bunny</td>\n",
       "      <td>Basketball</td>\n",
       "      <td>Cashew Fudge</td>\n",
       "    </tr>\n",
       "  </tbody>\n",
       "</table>\n",
       "</div>"
      ],
      "text/plain": [
       "      Name  Height Qualification  address  Age        Pets           sport  \\\n",
       "3     Anuj     5.2           Msc   Dakhar   21      Parrot         Cricket   \n",
       "2   Gaurav     5.1           Msc  Chennai   24  Chinchilla  PaddleBoarding   \n",
       "0      Jai     5.1           Msc    Delhi   21         Dog           Darts   \n",
       "1  janusha     6.2            MA     Doha   23       Bunny      Basketball   \n",
       "\n",
       "        Deserts  \n",
       "3  Carrot Halwa  \n",
       "2       waffels  \n",
       "0     ice cream  \n",
       "1  Cashew Fudge  "
      ]
     },
     "execution_count": 62,
     "metadata": {},
     "output_type": "execute_result"
    }
   ],
   "source": [
    "\"\"\"\n",
    "23. Sort the 'studentData' DataFrame in Ascending order -- Sorting by column 'Name' and then \"address\"\n",
    "\"\"\"\n",
    "studentData.sort_values(by = [\"Name\", \"address\"], inplace=True,ascending = True)\n",
    "studentData"
   ]
  },
  {
   "cell_type": "code",
   "execution_count": 67,
   "id": "2558051f",
   "metadata": {},
   "outputs": [],
   "source": [
    "\"\"\"\n",
    "24. Save this DataFrame here below to disc as a .CSV file with the name cows_and_goats.csv:\n",
    "\n",
    "    df = pd.DataFrame({'Cows': [12, 20], 'Goats': [22, 19]}, index=['Year 1', 'Year 2'])\n",
    "\"\"\"\n",
    "import pandas as pd\n",
    "\n",
    "df = pd.DataFrame({'Cows': [12, 20], 'Goats': [22, 19]}, index=['Year 1', 'Year 2'])\n",
    "df\n",
    "df.to_csv(\"cows_and_goats.csv\")"
   ]
  },
  {
   "cell_type": "code",
   "execution_count": 71,
   "id": "c82fbd95",
   "metadata": {},
   "outputs": [
    {
     "name": "stdout",
     "output_type": "stream",
     "text": [
      "A\n",
      "B\n",
      "  Unnamed: 0  Potatoes  Carrots\n",
      "0       Jill         3        4\n",
      "1       Jack         1        5\n",
      "  Unnamed: 0 Potatoes  Carrots\n",
      "0       Jill        3        4\n",
      "1       Jack       69        5\n"
     ]
    }
   ],
   "source": [
    "\"\"\"\n",
    "25. (A) Using Pandas, make your own .CSV file with data on vegetables and save it. \n",
    "(B) Using Pandas, make a change to your CSV file, and save a copy with a different name.\n",
    "\"\"\"\n",
    "print(\"A\")\n",
    "import pandas as pd\n",
    "vegdf = pd.DataFrame({'Potatoes': [3, 1], 'Carrots': [4, 5]}, index=['Jill', 'Jack'])\n",
    "vegdf\n",
    "vegdf.to_csv(\"jill_jack_vegis.csv\")\n",
    "\n",
    "\n",
    "print(\"B\")\n",
    "vegdf = pd.read_csv(\"jill_jack_vegis.csv\")\n",
    "print(vegdf)\n",
    "  \n",
    "# updating the column value/data\n",
    "vegdf.loc[1, 'Potatoes'] = '69'\n",
    "  \n",
    "# writing into the file\n",
    "vegdf.to_csv(\"jill_jack_fixed_vegis.csv\", index=False)\n",
    "  \n",
    "print(vegdf)"
   ]
  }
 ],
 "metadata": {
  "kernelspec": {
   "display_name": "Python 3 (ipykernel)",
   "language": "python",
   "name": "python3"
  },
  "language_info": {
   "codemirror_mode": {
    "name": "ipython",
    "version": 3
   },
   "file_extension": ".py",
   "mimetype": "text/x-python",
   "name": "python",
   "nbconvert_exporter": "python",
   "pygments_lexer": "ipython3",
   "version": "3.10.9"
  }
 },
 "nbformat": 4,
 "nbformat_minor": 5
}
