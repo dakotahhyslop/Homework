{
 "cells": [
  {
   "cell_type": "markdown",
   "id": "d01cd96b",
   "metadata": {},
   "source": [
    "# Dakotah Hyslop"
   ]
  },
  {
   "cell_type": "markdown",
   "id": "40489780",
   "metadata": {},
   "source": [
    "\n",
    "'''\n",
    "1. Create an if statement: if 'age' is greater than or equal to 25, print \"Renting a car is more affordable\", \n",
    "however if 'age' is less than 25, print \"Renting a car is very expensive.\"\n",
    "'''\n",
    "age = float(input(\"What is your age? \"))\n",
    "if age>= 25:\n",
    "    print(\"Renting a car is more affordable\")\n",
    "elif age < 25:\n",
    "    print(\"Renting a car is very expensive.\")"
   ]
  },
  {
   "cell_type": "code",
   "execution_count": 10,
   "id": "cd94da50",
   "metadata": {},
   "outputs": [
    {
     "name": "stdout",
     "output_type": "stream",
     "text": [
      "What is your age? 19\n"
     ]
    }
   ],
   "source": [
    "'''\n",
    "2. Create and chain an if-else statement: if 'age' is greater than or equal to 25, print \n",
    "\"Renting a car is more affordable.\" If 'age' is less than 25 but greater than or equal to 18, print \n",
    "\"Renting a car is very expensive.\" Finally, if age is less than 18, print \"You cannot legally rent a car.\"\n",
    "'''\n",
    "age = float(input(\"What is your age? \"))\n",
    "if age >= 25:\n",
    "    print(\"Renting a car is more affordable\")\n",
    "elif age == 18 < 25:\n",
    "    print(\"Renting a car is very expensive\")\n",
    "elif age <18:\n",
    "    print(\"You cannot legally rent a car.\")\n",
    "    "
   ]
  },
  {
   "cell_type": "code",
   "execution_count": null,
   "id": "60700fed",
   "metadata": {},
   "outputs": [],
   "source": [
    "'''\n",
    "3. Loop over the following string to (1) count all the characters in the string and (2) print out all the vowels -- \n",
    "\"The quick brown fox jumps over the lazy dog\"\n",
    "'''\n",
    "\n",
    "count=0\n",
    "vowel = \"aeiouy\"\n",
    "\n",
    "string = \"The quick brown fox jumps over the lazy dog\"\n",
    "for char in string:\n",
    "        count+=1\n",
    "        if char in vowel:\n",
    "            print(char)\n",
    "\n",
    "print(count)\n",
    "\n",
    "    "
   ]
  },
  {
   "cell_type": "code",
   "execution_count": null,
   "id": "bbd38f7c",
   "metadata": {},
   "outputs": [],
   "source": [
    "'''\n",
    "4. Write a nested loop that prints out every piece of clothing from the couture list, in every fashionable color from the \n",
    "panettone set: couture = [\"trousers\", \"blouse\", \"bandana\", \"cumber band\", \"blazer\", \"vest\", \"french beret\", \"scarf\", \"stole\"] \n",
    "and panettone = {\"cerise\", \"fuchsia\", \"aqua\", \"maple\", \"auburn\", \"burnt sienna\", \"gunmetal blue\", \"Dark Sapphire\"}\n",
    "'''\n",
    "\n",
    "\n",
    "couture = [\"trousers\", \"blouse\", \"bandana\", \"cumber band\", \"blazer\", \"vest\", \"french beret\", \"scarf\", \"stole\"]\n",
    "panettone = {\"cerise\", \"fuchsia\", \"aqua\", \"maple\", \"auburn\", \"burnt sienna\", \"gunmetal blue\", \"Dark Sapphire\"}\n",
    "for char in couture:\n",
    "    for color in panettone:\n",
    "        print(color, char)\n",
    "        \n",
    "    \n",
    "\n",
    "\n"
   ]
  },
  {
   "cell_type": "code",
   "execution_count": null,
   "id": "3a77fa7c",
   "metadata": {},
   "outputs": [],
   "source": [
    "# 5. Use range as a loop to calculate the sum of all the numbers from 1 to 100\n",
    "\n",
    "sum_ = 0\n",
    "\n",
    "for number in range(1,101):\n",
    "    sum_+=number\n",
    "\n",
    "print(sum_)"
   ]
  },
  {
   "cell_type": "code",
   "execution_count": null,
   "id": "477473ce",
   "metadata": {},
   "outputs": [],
   "source": [
    "# 6. Print the second item in this fruits list. [\"apple\", \"banana\", \"cherry\"]\n",
    "\n",
    "fruit_list = [\"apple\", \"banana\", \"cherry\"]\n",
    "print(fruit_list[1])"
   ]
  },
  {
   "cell_type": "code",
   "execution_count": null,
   "id": "b45ab919",
   "metadata": {},
   "outputs": [],
   "source": [
    "# 7. Change the value from \"apple\" to \"kiwi\", in the fruits list. [\"apple\", \"banana\", \"cherry\"]\n",
    "\n",
    "fruit_list[0] = \"kiwi\"\n",
    "print(fruit_list)"
   ]
  },
  {
   "cell_type": "code",
   "execution_count": null,
   "id": "cb102d64",
   "metadata": {},
   "outputs": [],
   "source": [
    "# 8. Use the append method to add \"orange\" to the fruits list. [\"apple\", \"banana\", \"cherry\"]\n",
    "\n",
    "fruit_list.append(\"orange\")\n",
    "print(fruit_list)"
   ]
  },
  {
   "cell_type": "code",
   "execution_count": null,
   "id": "a532b1c4",
   "metadata": {},
   "outputs": [],
   "source": [
    "# 9. Use the insert method to add \"lemon\" as the second item in the fruits list. [\"apple\", \"banana\", \"cherry\"]\n",
    "\n",
    "fruit_list.insert(1, \"lemon\")\n",
    "print(fruit_list)"
   ]
  },
  {
   "cell_type": "code",
   "execution_count": null,
   "id": "75722f64",
   "metadata": {},
   "outputs": [],
   "source": [
    "# 10. Use the remove method to remove \"banana\" from the fruits list. [\"apple\", \"banana\", \"cherry\"]\n",
    "\n",
    "fruit_list.remove(\"banana\")\n",
    "\n",
    "print(fruit_list)"
   ]
  },
  {
   "cell_type": "code",
   "execution_count": null,
   "id": "823c4ba8",
   "metadata": {},
   "outputs": [],
   "source": [
    "\"\"\"\n",
    "11. Use negative indexing to print the 3rd and 2nd to last items in the list. \n",
    "[\"apple\", \"banana\", \"cherry\", \"orange\", \"kiwi\", \"melon\", \"mango\"]\n",
    "\"\"\"\n",
    "\n",
    "fruit_list2 = [\"apple\", \"banana\", \"cherry\", \"orange\", \"kiwi\", \"melon\", \"mango\"]\n",
    "\n",
    "print(fruit_list2[-3:-1])"
   ]
  },
  {
   "cell_type": "code",
   "execution_count": null,
   "id": "c120bf52",
   "metadata": {},
   "outputs": [],
   "source": [
    "\"\"\"\n",
    "12. Use a range of indexes to print the third, fourth, and fifth item in the list. \n",
    "[\"apple\", \"banana\", \"cherry\", \"orange\", \"kiwi\", \"melon\", \"mango\"]\n",
    "\"\"\"\n",
    "\n",
    "print(fruit_list2[2:5])"
   ]
  },
  {
   "cell_type": "code",
   "execution_count": null,
   "id": "1bab9a64",
   "metadata": {},
   "outputs": [],
   "source": [
    "\"\"\"\n",
    "13. Use the correct syntax to print the number of items in the list. \n",
    "[\"apple\", \"banana\", \"cherry\", \"orange\", \"kiwi\", \"melon\", \"mango\"]\n",
    "\n",
    "\"\"\"\n",
    "print(len(fruit_list2))"
   ]
  },
  {
   "cell_type": "code",
   "execution_count": null,
   "id": "0264bc45",
   "metadata": {},
   "outputs": [],
   "source": [
    "\"\"\"\n",
    "14. Use the correct syntax to sort this list in reverse order\n",
    "[\"apple\", \"banana\", \"cherry\", \"orange\", \"kiwi\", \"melon\", \"mango\"]\n",
    "\"\"\"\n",
    "\n",
    "print(sorted(fruit_list2, reverse=True))"
   ]
  },
  {
   "cell_type": "markdown",
   "id": "419ad8f9",
   "metadata": {},
   "source": [
    "1. What does one need to do to use a module?\n",
    "\n",
    "-  Modules have to be imported using \"import\" module \"as\" library name.\n",
    "\n",
    "2. Name a Module (not the DateTime Nodule) we looked at and write a line or 2 of code as an example using this module.\n",
    "\n",
    "-  Random module\n",
    "    import random\n",
    "    random.choice(\"misssissippi\")\n",
    "\n",
    "3. What is a benefit of using Exception handling?\n",
    "\n",
    "-  The benefit of using exception handling is when an error is prompted in python, exception handling will redirect the error to    try and satisfy other condition/s until one of them is appropriate.\n",
    "\n",
    "4. what are the 4 components used for Python Exception Handling?\n",
    "\n",
    "    1. try\n",
    "    2. except\n",
    "    3. else\n",
    "    4. finally\n",
    "\n",
    "5. NumPy arrays are like what Python data type?\n",
    "\n",
    "- lists\n",
    "\n",
    "6. What is one of the main benefits of using NumPy arrays.\n",
    "\n",
    "- They occupy less memory\n",
    "\n",
    "7. What is one of the main requirements about the 'dtype' of NumPy arrays?\n",
    "\n",
    "- The data types must be specified otherwise it will use a float as a default\n",
    "\n",
    "8. Of the 10 uses of NumPy, name 2.\n",
    "\n",
    "- Median & Mean\n",
    "\n",
    "9. Name one of the other libraries we'll use with NumPy?\n",
    "\n",
    "- Matplotlib\n",
    "\n",
    "10. What is the shape of NumPy arrays?\n",
    "\n",
    "- 4+ dimensional\n",
    "\n",
    "11. What is a Tensor?\n",
    "\n",
    "- A tensor is an array with 3+ dimensions\n",
    "\n",
    "12. Name a reason why it's better using  NumPy for Data Analysis than using a Python List?\n",
    "\n",
    "- NumPy supports a greater variety of numerical data types than python\n",
    "\n",
    "13. When creating an \"empty\" array, where do the elements come from?\n",
    "\n",
    "- The elements come from the memory allocated to the array"
   ]
  },
  {
   "cell_type": "code",
   "execution_count": null,
   "id": "3ec5ca24",
   "metadata": {},
   "outputs": [],
   "source": [
    "'''\n",
    "1. Use the DateTime module to get Current Date and Time, and save it to a variable. \n",
    "# Then extract just the Full month name form that variable.\n",
    "'''\n",
    "from datetime import datetime\n",
    "today = datetime.today()\n",
    "today.strftime(\"%B\")"
   ]
  },
  {
   "cell_type": "code",
   "execution_count": null,
   "id": "9d43216a",
   "metadata": {},
   "outputs": [],
   "source": [
    "'''\n",
    "2. Write a simple function that takes 2 parameters -- a first name and a day name.\n",
    "Set a default value for the day name of Sunday.\n",
    "Have the function print out a greeting -- using the parameters -- \n",
    "that says something like \"Hi first-name! Happy day-name!\". \n",
    "Remember to use the variables in the greeting to replace first-name and day-name.\n",
    "Invoke this function with 2 variables.\n",
    "Invoke this function with 1 variable only.\n",
    "'''\n",
    "\n",
    "def greeting(name, day_name='Sunday'):\n",
    "    try:\n",
    "        print(f\"hi my name is {name} and today is {day_name}\")\n",
    "    except NameError:\n",
    "        print('an unassigned variable was passed')\n",
    "\n",
    "greeting(\"Jeff\", \"Friday\")\n",
    "greeting(\"Jeff\")"
   ]
  },
  {
   "cell_type": "code",
   "execution_count": null,
   "id": "b3ddf740",
   "metadata": {},
   "outputs": [],
   "source": [
    "'''\n",
    "3. Write a block of code to handle one of the most common Python exception errors. Select one of the common errors from the\n",
    "curriculum section on Python Exception handling. Have your code example uses the try,except, else, and finally components.\n",
    "'''\n",
    "def repeat_word(word, n=1):\n",
    "    try:\n",
    "        range_ = range(n)\n",
    "    except TypeError:\n",
    "        print('not a int')\n",
    "    else:\n",
    "        for _ in range_:\n",
    "            print(word)\n",
    "    finally:\n",
    "        print('done repeating')\n",
    "        \n",
    "repeat_word(\"Face\", '1')\n"
   ]
  }
 ],
 "metadata": {
  "kernelspec": {
   "display_name": "Python 3 (ipykernel)",
   "language": "python",
   "name": "python3"
  },
  "language_info": {
   "codemirror_mode": {
    "name": "ipython",
    "version": 3
   },
   "file_extension": ".py",
   "mimetype": "text/x-python",
   "name": "python",
   "nbconvert_exporter": "python",
   "pygments_lexer": "ipython3",
   "version": "3.10.9"
  }
 },
 "nbformat": 4,
 "nbformat_minor": 5
}
