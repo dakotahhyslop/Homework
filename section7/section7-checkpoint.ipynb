{
 "cells": [
  {
   "cell_type": "markdown",
   "id": "8a813948",
   "metadata": {},
   "source": [
    "# SECTION 07 HW \n",
    "## Dakotah Hyslop"
   ]
  },
  {
   "cell_type": "markdown",
   "id": "a4b27798",
   "metadata": {},
   "source": [
    "## --7.1 HW Questions------------------------------------------------------------------------------------------------------"
   ]
  },
  {
   "cell_type": "markdown",
   "id": "4be3e568",
   "metadata": {},
   "source": [
    "#### 1. Using EVregistry, Write a query to select the `ModelYear`, `Make`, and `Model` off all of the vehicles in the registry.\n",
    "\n",
    "#### 1. - SQL Answer)\n",
    "\n",
    "SELECT ModelYear, Make, Model\n",
    "FROM EVRegistry"
   ]
  },
  {
   "cell_type": "markdown",
   "id": "ddd950e3",
   "metadata": {},
   "source": [
    "#### 2. Using the EVRegistry table, Write a query that lists all of the unique types of EV's. your reult set should have one column, `ElectricVehicleType`.\n",
    "\n",
    "#### 2. - SQL Answer)\n",
    "\n",
    "SELECT ElectricVehicleType\n",
    "FROM EVRegistry"
   ]
  },
  {
   "cell_type": "markdown",
   "id": "0dae0ebf",
   "metadata": {},
   "source": [
    "#### 3. Using the EVRegistry, Write a query that shows all of the information on Battery Electric Vehicles (BEV) that are in the registry. \n",
    "\n",
    "#### 3. - SQL Answer)\n",
    "\n",
    "SELECT *\n",
    "FROM EVRegistry\n",
    "WHERE ElectricVehicleType like \"%BEV%\""
   ]
  },
  {
   "cell_type": "markdown",
   "id": "05647f4a",
   "metadata": {},
   "source": [
    "#### 4. Using the EVRegistry, wirte a query that returns the `Make` and `Model` of all of the EV's that have a BaseMSRP between 20000 and 35000?  \n",
    "\n",
    "#### 4. - SQL Answer)\n",
    "\n",
    "SELECT Make, Model, BaseMSRP\n",
    "FROM EVRegistry \n",
    "where BaseMSRP BETWEEN \"20000\" AND \"35000\""
   ]
  },
  {
   "cell_type": "markdown",
   "id": "3a452db8",
   "metadata": {},
   "source": [
    "## --7.2 HW Questions------------------------------------------------------------------------------------------------------"
   ]
  },
  {
   "cell_type": "markdown",
   "id": "f23c7e3d",
   "metadata": {},
   "source": [
    "#### 1. Using EVRegistry, write a query to find a record  where the `City` attribute is NULL. Return all of the available columns. \n",
    "\n",
    "#### 1. - SQL Answer)\n",
    "\n",
    "SELECT *\n",
    "from EVRegistry\n",
    "WHERE City = NULL"
   ]
  },
  {
   "cell_type": "markdown",
   "id": "19ed2e37",
   "metadata": {},
   "source": [
    "#### 2. Write a query to find the `make`, `model`, and `ElectricVehicleType` where the VIN number has  that ends in '3E1EA1J'.\n",
    "\n",
    "#### 2. - SQL Answer)\n",
    "\n",
    "SELECT Make, Model, ElectricVehicleType, VIN\n",
    "from EVRegistry\n",
    "where VIN like \"%3E1EA1J\""
   ]
  },
  {
   "cell_type": "markdown",
   "id": "44087fd6",
   "metadata": {},
   "source": [
    "#### 3. Select the `ModelYear`, `make`, `model`, `ElectricVehicleType`, and `range` of the Tesla vehicles or cheverolet vehicles in the registry. Order the result set by Make and Model year in from newest to oldest. \n",
    "\n",
    "#### 3. - SQL Answer)\n",
    "\n",
    "SELECT ModelYear, Make, Model, ElectricVehicleType, ElectricRange\n",
    "from EVRegistry\n",
    "WHERE Make = \"TESLA\" or Make =  \"CHEVROLET\"\n",
    "ORDER by Make, ModelYear DESC"
   ]
  },
  {
   "cell_type": "markdown",
   "id": "ebae8771",
   "metadata": {},
   "source": [
    "#### 4. Using EVCharging, Write a query to find out how many many times those stations were used. Order them by the most used to the least used and limit the output to 5 records.\n",
    "\n",
    "#### 4. - SQL Answer)\n",
    "\n",
    "SELECT stationId, count(userId) as \"Times Station Was Used\"\n",
    "FROM EVCharging\n",
    "GROUP BY stationId\n",
    "ORDER BY count(userID) DESC\n",
    "LIMIT 5"
   ]
  },
  {
   "cell_type": "markdown",
   "id": "3d0b01b7",
   "metadata": {},
   "source": [
    "#### 5.  Using EVCharging, For the folks who charged longer than 0.5 hours, show the min and max of the charging time for each user. Your output columns should be `userid`, `minTime`, and `maxTime`. Order this result set by the last two columns respectively. \n",
    "\n",
    "#### 5. - SQL Answer)\n",
    "\n",
    "SELECT userId, min(chargeTimeHrs) as \"minTime\", max(chargeTimeHrs) as \"maxTime\"\n",
    "FROM EVCharging\n",
    "WHERE chargeTimeHrs > 0.5\n",
    "GROUP by userId\n",
    "ORDER by 2, 3"
   ]
  },
  {
   "cell_type": "markdown",
   "id": "db91c48a",
   "metadata": {},
   "source": [
    "## --7.3 HW Questions------------------------------------------------------------------------------------------------------"
   ]
  },
  {
   "cell_type": "markdown",
   "id": "35de6a4e",
   "metadata": {},
   "source": [
    "#### 1. Using EVCharging, Which day of the week has the highest average charging time? Round the answer to 2 decimal points. \n",
    "\n",
    "#### 1. - SQL Answer)\n",
    "\n",
    "SELECT weekday, round(avg(chargeTimeHrs),2)\n",
    "FROM EVCharging\n",
    "GROUP by weekday\n",
    "ORDER by avg(chargeTimeHrs) DESC\n",
    "LIMIT 1"
   ]
  },
  {
   "cell_type": "markdown",
   "id": "58a5f661",
   "metadata": {},
   "source": [
    "#### 2. Using, EV charging, Find the total power consumed from charging EV's by each User. Return the `userId` and name the calculated column, `totalPower`. Round the answer to 2 deciaml points and list the out put in highest to lowest order. Limit the order to the top 15 users. \n",
    "\n",
    "#### 2. - SQL Answer)\n",
    "\n",
    "SELECT userId, round(sum(kwhTotal), 2) as \"totalPower\"\n",
    "from EVCharging\n",
    "group by userId\n",
    "ORDER by 2 DESC\n",
    "LIMIT 15"
   ]
  },
  {
   "cell_type": "markdown",
   "id": "5a8e2990",
   "metadata": {},
   "source": [
    "#### 3. Using dimfacility and factCharge, write a query to find out which type of facility (GROUP BY) has the most amount of charging stations. Return `type Facility` and name the calculated column `numStation`. Order the result set from highest to lowest number of charging stations.\n",
    "\n",
    "#### 3. - SQL Answer)\n",
    "\n",
    "SELECT FacilityKey, facilityID, typeFacility, count(stationId) as \"numStation\"\n",
    "FROM factCharge\n",
    "INNER JOIN dimFacility\n",
    "ON factCharge.facilityID = dimFacility.FacilityKey\n",
    "GROUP by typeFacility\n",
    "ORDER by 4 DESC"
   ]
  },
  {
   "cell_type": "markdown",
   "id": "10e3566b",
   "metadata": {},
   "source": [
    "#### 4. In your own words, Briefly explain Primary Keys and Foreign Keys. \n",
    "\n",
    "#### 4. - Answer)\n",
    "\n",
    "Primary keys are unique identifiers that identify each original row within a database and contain no NULL values. Foreign keys are a direct value reference to primary keys and can be renamed.  "
   ]
  },
  {
   "cell_type": "markdown",
   "id": "e76641f8",
   "metadata": {},
   "source": [
    "#### 5. Using EV Charging, For the folks who charged longer than one hour, show the min and max of the charging time for each user. Your output columns should be `userid`, `minTime`, and `maxTime`. Order this result set by the last two columns respectively. HINT: USE `HAVING`\n",
    "\n",
    "#### 5. - SQL Answer)\n",
    "\n",
    "SELECT userId, min(chargeTimeHrs) as \"min Time\", max(chargeTimeHrs) as \"max Time\"\n",
    "FROM EVCharging\n",
    "GROUP by userId\n",
    "HAVING chargeTimeHrs > 1\n",
    "ORDER by 2,3 DESC"
   ]
  }
 ],
 "metadata": {
  "kernelspec": {
   "display_name": "Python 3 (ipykernel)",
   "language": "python",
   "name": "python3"
  },
  "language_info": {
   "codemirror_mode": {
    "name": "ipython",
    "version": 3
   },
   "file_extension": ".py",
   "mimetype": "text/x-python",
   "name": "python",
   "nbconvert_exporter": "python",
   "pygments_lexer": "ipython3",
   "version": "3.10.9"
  }
 },
 "nbformat": 4,
 "nbformat_minor": 5
}
