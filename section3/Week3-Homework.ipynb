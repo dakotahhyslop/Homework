{
 "cells": [
  {
   "cell_type": "markdown",
   "id": "585c6f44",
   "metadata": {},
   "source": [
    "Homework 3.1\n",
    "What is an algorithm? - An algorithm is a series of steps to solve a problem at hand\n",
    "\n",
    "Variable names may not start with certain characters - name two. - 2name, $name\n",
    "\n",
    "What is a Semantic error? code is grammatically correct but doesn't make any sense; it does not produce the expected results. E.g. 5+5 = 17\n",
    "\n",
    "What is the #1 rule of coding / debugging? Complexity is the enemy of efficiency!\n",
    "\n",
    "List 5 Python reserved words. - and, as, assert, break, for"
   ]
  },
  {
   "cell_type": "code",
   "execution_count": 20,
   "id": "c6915a6c",
   "metadata": {},
   "outputs": [
    {
     "name": "stdout",
     "output_type": "stream",
     "text": [
      "Dakotah 12 12.5 ['chipotle', 'sushi', 'greek food'] financial analyst\n",
      "7\n",
      "3\n",
      "a\n",
      "Learning Data Analytics and Python is Awesome!\n",
      "Learning Data Analytics and Python is great!\n",
      "Hi my name is Dakotah, I am 30 and 72 inches old today.\n",
      "30.0\n"
     ]
    }
   ],
   "source": [
    "#1.\n",
    "# My name is Dakotah Hyslop\n",
    "# My favorite food is a Chipotle steak bowl\n",
    "# My dream job is to be a Financial analyst consultant\n",
    "\n",
    "#2.\n",
    "d = \"Dakotah\"\n",
    "n = (12)\n",
    "f = (12.5)\n",
    "fave_foods = [\"chipotle\", \"sushi\", \"greek food\"]\n",
    "_job = \"financial analyst\"\n",
    "\n",
    "print(d, n, f, fave_foods, _job)\n",
    "print(len(d))\n",
    "print(len(fave_foods))\n",
    "print(_job[3])      #4th character is the 3rd index\n",
    "\n",
    "#3.\n",
    "savvy = \"Learning Data Analytics and Python is Awesome!\"\n",
    "range(5, 23)\n",
    "new_string = savvy.replace(\"Awesome\", \"great\")\n",
    "\n",
    "print(savvy)\n",
    "print(new_string)\n",
    "\n",
    "#4.\n",
    "miniBio = \"Hi my name is {}, I am {} and {} old today.\"\n",
    "print(miniBio.format(\"Dakotah\", \"30\", \"72 inches\"))\n",
    "x = float(\"30\")\n",
    "print(x)"
   ]
  },
  {
   "cell_type": "markdown",
   "id": "a7ab14b2",
   "metadata": {},
   "source": [
    "Homework 3.2"
   ]
  },
  {
   "cell_type": "code",
   "execution_count": 83,
   "id": "be7d3859",
   "metadata": {},
   "outputs": [
    {
     "name": "stdout",
     "output_type": "stream",
     "text": [
      "[50, 20.5, 'hello', 'True', 'range(1,3)']\n",
      "[50, 20.5, 'hello', 'True', 'range(1,3)', 'animal']\n",
      "[50, 20.5, 'hello', 'True', 'range(1,3)', 'animal', ['are', 'to', 'they', 'house']]\n",
      "7\n",
      "Extended f ...  [20, 20.5, 'hello', 'True', 'range(1,3)', 'are', 'to', 'they', 'house']\n",
      "['are', 'to', 'they', 'house']\n",
      "newly added f... [20, 20.5, 'hello', 'True', 'range(1,3)', 'are', 'to', 'they', 'house', 'are', 'to', 'they', 'house']\n",
      "[96, 30.5, 'True', range(0, 4), 7]\n",
      "Sorted simList in reverse -  [96, 70, 57, 30.5, 30]\n",
      "Extended simList ...  [96, 70, 57, 30.5, 30, 'Bernard', 'Johnson', 'Tucan', 'Parrot']\n",
      "['Bernard', 'Johnson', 'Tucan', 'Parrot']\n",
      "newly added pirateList... [96, 70, 57, 30.5, 30, 'Bernard', 'Johnson', 'Tucan', 'Parrot', 'Bernard', 'Johnson', 'Tucan', 'Parrot']\n",
      "newly added skyscrapperList...  ['eifel_tower', 'world_trade_center', 'Rockefeller_center', 'Burj_Khalifa', 96, 70, 57, 30.5, 30, 'Bernard', 'Johnson', 'Tucan', 'Parrot', 'Bernard', 'Johnson', 'Tucan', 'Parrot']\n"
     ]
    }
   ],
   "source": [
    "#10.\n",
    "f = [20, 20.5, \"hello\", \"True\", \"range(1,3)\"]\n",
    "f[0] = 50\n",
    "print(f)\n",
    "f.append('animal')\n",
    "print(f)\n",
    "f_f = ['are', 'to', 'they', 'house']\n",
    "f.append(f_f)\n",
    "print(f)\n",
    "size = len(f)\n",
    "print(size)\n",
    "\n",
    "f = [20, 20.5, \"hello\", \"True\", \"range(1,3)\"]\n",
    "f_f = ['are', 'to', 'they', 'house']\n",
    "\n",
    "f.extend(f_f)\n",
    "print(\"Extended f ... \", f)\n",
    "print(f_f)\n",
    "\n",
    "f_f_f = f + f_f\n",
    "print(\"newly added f...\", f_f_f )\n",
    "\n",
    "simList = [96, 30.5, \"True\", range(4), int(7)]\n",
    "print(simList)\n",
    "\n",
    "simList = [96, 30.5, 70, 30, 57]\n",
    "simList.sort(reverse=True)\n",
    "print(\"Sorted simList in reverse - \", simList)\n",
    "\n",
    "pirateList = [\"Bernard\", \"Johnson\", \"Tucan\", \"Parrot\"]\n",
    "simList.extend(pirateList)\n",
    "print(\"Extended simList ... \", simList)\n",
    "print(pirateList)\n",
    "pirateList = simList + pirateList\n",
    "print(\"newly added pirateList...\", pirateList )\n",
    "skyscrapperList = [\"eifel_tower\", \"world_trade_center\", \"Rockefeller_center\", \"Burj_Khalifa\"]\n",
    "longList = skyscrapperList + pirateList\n",
    "print(\"newly added skyscrapperList... \", longList)\n"
   ]
  },
  {
   "cell_type": "code",
   "execution_count": 121,
   "id": "0f68f23f",
   "metadata": {},
   "outputs": [
    {
     "name": "stdout",
     "output_type": "stream",
     "text": [
      "timesTuple ... (20, 20.5, 'hello', 'True', 'range(1,3)', 20, 20.5, 'hello', 'True', 'range(1,3)', 20, 20.5, 'hello', 'True', 'range(1,3)')\n",
      "frtimes_tuple ... (20, 20.5, 'hello', 'True', 'range(1,3)', 'hello', 31, 45.55, 'Bears', 'Taxi Driver', 20, 20.5, 'hello', 'True', 'range(1,3)', 'hello', 31, 45.55, 'Bears', 'Taxi Driver', 20, 20.5, 'hello', 'True', 'range(1,3)', 'hello', 31, 45.55, 'Bears', 'Taxi Driver')\n",
      "hello\n",
      "Sorted Tuple : (5, 5, 7, 9, 9, 19)\n",
      "(9, 9, 7, 5)\n",
      "9\n",
      "5\n",
      "9\n",
      "7\n",
      "50\n",
      "(9, 9, 7, 5, 19, 5, 9, 9, 7, 5)\n"
     ]
    }
   ],
   "source": [
    "#11.\n",
    "f_tuple = (20, 20.5, \"hello\", \"True\", \"range(1,3)\")\n",
    "timesTuple = f_tuple * 3\n",
    "print(\"timesTuple ...\", timesTuple)\n",
    "r_tuple = (\"hello\", 31, 45.55, \"Bears\", \"Taxi Driver\",)\n",
    "fr_tuple = f_tuple + r_tuple\n",
    "frtimes_tuple = fr_tuple * 3\n",
    "print(\"frtimes_tuple ...\", frtimes_tuple)\n",
    "\n",
    "print(frtimes_tuple[12])\n",
    "\n",
    "sec_r_tuple = (9, 9 , 7, 5 ,19, 5)\n",
    "sortup_ = tuple(sorted(sec_r_tuple))  \n",
    "print('Sorted Tuple :', sortup_)  \n",
    "\n",
    "third_tuple = sec_r_tuple[0:4]\n",
    "print(third_tuple)\n",
    "\n",
    "(var_one, var_two, var_three, var_four) = third_tuple\n",
    "print(var_one)\n",
    "print(var_four)\n",
    "print(var_two)\n",
    "print(var_three)\n",
    "\n",
    "four_tuple = (50)\n",
    "print(four_tuple)\n",
    "\n",
    "fifth_tuple = sec_r_tuple + third_tuple\n",
    "print(fifth_tuple)"
   ]
  },
  {
   "cell_type": "code",
   "execution_count": 141,
   "id": "8b6da4b4",
   "metadata": {},
   "outputs": [
    {
     "name": "stdout",
     "output_type": "stream",
     "text": [
      "updated set:  {'strawberries', 'pineapple', 'blueberries', ('blueberries', 'pineapples', 'pears')}\n",
      "updated set:  {'pineapple', 'Jeep', 'strawberries', 'blueberries', ('blueberries', 'pineapples', 'pears')}\n",
      "{'pineapple', 'Jeep', 'Lambo', 'table', 'strawberries', 'gun', 'blueberries', 'horse', ('blueberries', 'pineapples', 'pears')}\n",
      "current third_set:   {'Jeep', 'Lambo', 'table', 'strawberries', 'gun', 'blueberries', 'horse', ('blueberries', 'pineapples', 'pears')}\n",
      "set()\n",
      "{'table', 'strawberries', 'gun', 'blueberries', 'horse', ('blueberries', 'pineapples', 'pears')}\n"
     ]
    }
   ],
   "source": [
    "#12.\n",
    "set = {\"blueberries\", \"pineapple\", \"strawberries\"}\n",
    "fruit_list = (\"blueberries\", \"pineapples\", \"pears\")\n",
    "set.add(fruit_list)\n",
    "print(\"updated set: \", set)\n",
    "set.add(\"Jeep\")\n",
    "print(\"updated set: \", set)\n",
    "\n",
    "second_set = {\"horse\", \"Lambo\", \"gun\", \"table\"}\n",
    "third_set = set.union(second_set)\n",
    "print(third_set)\n",
    "\n",
    "random = third_set.pop()\n",
    "print(\"current third_set:  \", third_set)\n",
    "\n",
    "set.clear()\n",
    "print(set)\n",
    "\n",
    "third_set.remove(\"Lambo\")\n",
    "third_set.discard(\"Jeep\")\n",
    "print(third_set)"
   ]
  },
  {
   "cell_type": "code",
   "execution_count": 158,
   "id": "db85c90d",
   "metadata": {},
   "outputs": [
    {
     "name": "stdout",
     "output_type": "stream",
     "text": [
      "\n",
      "Dictionary with the use of 5 values of different data types: \n",
      "{1: 'farm', 2: 5, 3: 50.5, 4: ('o', 'p'), 5: None}\n",
      "farm\n",
      "{1: 'Dakotah', 2: 5, 3: 50.5, 4: ('o', 'p'), 5: None}\n",
      "{1: 'Dakotah', 2: 5, 3: 50.5, 4: ('o', 'p'), 5: None, 6: 'grass'}\n",
      "{1: 'Dakotah', 2: 5, 3: 50.5, 4: ('o', 'p'), 5: None, 6: 'grass', 7: ['pep', 'mushroom', 'peppers', 'cheese']}\n",
      "dict_keys([1, 2, 3, 4, 5, 6, 7])\n",
      "dict_values(['Dakotah', 5, 50.5, ('o', 'p'), None, 'grass', ['pep', 'mushroom', 'peppers', 'cheese']])\n",
      "{1: 'Dakotah', 2: 5, 3: 50.5, 4: ('o', 'p'), 5: None, 6: 'grass', 7: ['pep', 'mushroom', 'peppers', 'cheese']}\n",
      "{2: 5, 3: 50.5, 4: ('o', 'p'), 5: None, 6: 'grass', 7: ['pep', 'mushroom', 'peppers', 'cheese']}\n",
      "{}\n"
     ]
    }
   ],
   "source": [
    "#13.\n",
    "Dict = {1: 'farm', 2: 5, 3: 50.5, 4: (\"o\", \"p\"), 5: None}\n",
    "print(\"\\nDictionary with the use of 5 values of different data types: \")\n",
    "print(Dict)\n",
    "\n",
    "print(Dict[1])\n",
    "\n",
    "Dict[1] = \"Dakotah\"\n",
    "print(Dict)\n",
    "\n",
    "Dict[6] = \"grass\"\n",
    "print(Dict)\n",
    "\n",
    "pizza_topping_list = [\"pep\", \"mushroom\", \"peppers\", \"cheese\"]\n",
    "Dict[7] = pizza_topping_list\n",
    "print(Dict)\n",
    "\n",
    "print(Dict.keys())\n",
    "\n",
    "print(Dict.values())\n",
    "\n",
    "\n",
    "Dict_2 = Dict.copy()\n",
    "print(Dict_2)\n",
    "\n",
    "Dict_2.pop(1)\n",
    "print(Dict_2)\n",
    "\n",
    "Dict_2.clear()\n",
    "print(Dict_2)"
   ]
  },
  {
   "cell_type": "code",
   "execution_count": null,
   "id": "19810411",
   "metadata": {},
   "outputs": [],
   "source": []
  }
 ],
 "metadata": {
  "kernelspec": {
   "display_name": "Python 3 (ipykernel)",
   "language": "python",
   "name": "python3"
  },
  "language_info": {
   "codemirror_mode": {
    "name": "ipython",
    "version": 3
   },
   "file_extension": ".py",
   "mimetype": "text/x-python",
   "name": "python",
   "nbconvert_exporter": "python",
   "pygments_lexer": "ipython3",
   "version": "3.10.9"
  }
 },
 "nbformat": 4,
 "nbformat_minor": 5
}
