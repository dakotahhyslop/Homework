{
 "cells": [
  {
   "cell_type": "code",
   "execution_count": 8,
   "id": "bbf95383",
   "metadata": {},
   "outputs": [
    {
     "name": "stdout",
     "output_type": "stream",
     "text": [
      "nDictionary with the use of values of different data types: \n",
      "7\n",
      "{1: 'Dakotah', 2: 7, 3: 60.7, 4: ('1', '0'), 5: None}\n",
      "{1: 'Dakotah', 2: 7, 3: 60.7, 4: ('1', '0'), 5: None, 7: 'truck'}\n",
      "{1: 'Dakotah', 2: 7, 3: 60.7, 4: ('1', '0'), 5: None, 7: 'truck', 8: ['addidas', 'nike', 'rebbok', 'shoe 5']}\n"
     ]
    }
   ],
   "source": [
    "\n",
    "# Create a dictionary with at least 5 values of different data types\n",
    "Dict = {1: 'face', 2: 7, 3: 60.7, 4: ('1','0'), 5: None}\n",
    "\n",
    "# Print out 1 value\n",
    "print(\"nDictionary with the use of values of different data types: \")\n",
    "print(Dict[2])\n",
    "\n",
    "# Replace any one value in your dictionary with your name\n",
    "Dict[1] = \"Dakotah\"\n",
    "print(Dict)\n",
    "\n",
    "# Add your favorite color to the dictionary\n",
    "Dict[7] = \"truck\"\n",
    "print(Dict)\n",
    "\n",
    "# Add a list, tuple or set to your dictionary\n",
    "shoe_list = [\"addidas\", \"nike\", \"rebbok\", \"shoe 5\"]\n",
    "Dict[8] = shoe_list\n",
    "print(Dict)\n",
    "\n",
    "# Print a list of the dictionary keys\n",
    "\n",
    "\n",
    "# Print a list of the dictionary values\n",
    "\n",
    "\n",
    "# Copy your 1st dictionary into a 2nd dictionary\n",
    "\n",
    "\n",
    "# Pop an item from the 2nd dictionary, and print the dictionary\n",
    "\n",
    "\n",
    "# Remove all the elements from the 2nd dictionary and print the result"
   ]
  },
  {
   "cell_type": "code",
   "execution_count": null,
   "id": "7f4c9bca",
   "metadata": {},
   "outputs": [],
   "source": []
  }
 ],
 "metadata": {
  "kernelspec": {
   "display_name": "Python 3 (ipykernel)",
   "language": "python",
   "name": "python3"
  },
  "language_info": {
   "codemirror_mode": {
    "name": "ipython",
    "version": 3
   },
   "file_extension": ".py",
   "mimetype": "text/x-python",
   "name": "python",
   "nbconvert_exporter": "python",
   "pygments_lexer": "ipython3",
   "version": "3.10.9"
  }
 },
 "nbformat": 4,
 "nbformat_minor": 5
}
