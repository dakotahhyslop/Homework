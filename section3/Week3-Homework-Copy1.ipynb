{
 "cells": [
  {
   "cell_type": "markdown",
   "id": "585c6f44",
   "metadata": {},
   "source": [
    "Homework 3.1\n",
    "Data Types:\n",
    "\n",
    "1. What is an algorithm? - An algorithm is a series of steps to solve a problem at hand\n",
    "\n",
    "2. Variable names may not start with certain characters - name two. - 2name, $name\n",
    "\n",
    "3. What is a Semantic error? code is grammatically correct but doesn't make any sense; it does not produce the expected results.E.g. 5+5 = 17\n",
    "\n",
    "4. What is the #1 rule of coding / debugging? Complexity is the enemy of efficiency!\n",
    "\n",
    "5. List 5 Python reserved words. - and, as, assert, break, for"
   ]
  },
  {
   "cell_type": "code",
   "execution_count": 12,
   "id": "c6915a6c",
   "metadata": {},
   "outputs": [
    {
     "name": "stdout",
     "output_type": "stream",
     "text": [
      "Dakotah 12 12.5 ['chipotle', 'sushi', 'greek food'] financial analyst\n",
      "7\n",
      "3\n",
      "a\n",
      "Learning Data Analytics and Python is Awesome!\n",
      "Learning Data Analytics and Python is great!\n",
      "Hi my name is Dakotah, I am 72 inches and 30 old today.\n",
      "30.0\n"
     ]
    }
   ],
   "source": [
    "#6.\n",
    "\"\"\"\n",
    "My name is Dakotah Hyslop\n",
    "My favorite food is a Chipotle steak bowl\n",
    "My dream job is to be a Financial analyst consultant\n",
    "\"\"\"\n",
    "#7.\n",
    "d = \"Dakotah\"\n",
    "n = (12)\n",
    "f = (12.5)\n",
    "fave_foods = [\"chipotle\", \"sushi\", \"greek food\"]\n",
    "_job = \"financial analyst\"\n",
    "\n",
    "print(d, n, f, fave_foods, _job)\n",
    "print(len(d))\n",
    "print(len(fave_foods))\n",
    "print(_job[3])      #4th character is the 3rd index\n",
    "\n",
    "#8.\n",
    "savvy = \"Learning Data Analytics and Python is Awesome!\"\n",
    "range(5, 23)\n",
    "new_string = savvy.replace(\"Awesome\", \"great\")\n",
    "\n",
    "print(savvy)\n",
    "print(new_string)\n",
    "\n",
    "\n",
    "#9.\n",
    "\n",
    "name, age, length = (\"Dakotah\", \"30\", \"72 inches\")\n",
    "miniBio = f\"Hi my name is {name}, I am {length} and {age} old today.\"\n",
    "print(miniBio)\n",
    "print(float(age))\n",
    "\n"
   ]
  },
  {
   "cell_type": "code",
   "execution_count": 15,
   "id": "6cbd6c99",
   "metadata": {},
   "outputs": [
    {
     "name": "stdout",
     "output_type": "stream",
     "text": [
      "[20, 20.5, 'hello', True, range(1, 3)]\n",
      "[20, 20.5, 'hello', False, range(1, 3)]\n",
      "[20, 20.5, 'hello', False, range(1, 3), 1]\n",
      "[20, 20.5, 'hello', False, range(1, 3), 1, 3]\n",
      "[20, 20.5, 'hello', False, range(1, 3), 1, 3, 5]\n"
     ]
    }
   ],
   "source": [
    "# 10.\n",
    "# Create a list of at least 5 elements of mixed data types\n",
    "f = [20, 20.5, \"hello\", True, range(1,3)]\n",
    "print(f)\n",
    "\n",
    "# Replace a part of it with something else\n",
    "f[3] = False\n",
    "print(f)\n",
    "\n",
    "# Append or insert several more items to the list\n",
    "f_f = list(range(1,7,2))\n",
    "for item in f_f:\n",
    "    f.append(item)\n",
    "    print(f)\n",
    "\n",
    "f.insert(len(f), set('12134623'))\n",
    "print(f)\n",
    "\n",
    "# Find and print the length of the list\n",
    "print(len(f))\n",
    "\n",
    "# Slice a sub-section of the 1st list, and save it to a different 2nd list \n",
    "# Q10: it clooks like you just created 2 lists of elements. \n",
    "# It is wanting you to create the first list and then the 2nd list\n",
    "# will be a sliced sub section of that 1st list.\n",
    "# List2 = List1[whatever sub section you want]\n",
    "# Once you have that 2nd list then extend it with the original\n",
    "sub_f = f[4:-1]\n",
    "\n",
    "# Print the 2nd list\n",
    "print(sub_f)\n",
    "\n",
    "# Extend your original list with the 2nd list sliced above\n",
    "f.extend(sub_f)\n",
    "print(f)\n",
    "\n",
    "# Create a new list called \"simList\" containing at least 5 elements of the same data type, either string, integer, float, or Boolean\n",
    "simList = list('LMNOPQ')\n",
    "\n",
    "# Sort \"simList\", and print the list\n",
    "simList.sort()\n",
    "print(simList)\n",
    "\n",
    "# Copy the \"simList\" list to another 3rd list\n",
    "abc_list = simList.copy()\n",
    "print(abc_list)\n",
    "\n",
    "# Add the 2nd and 3rd lists together into a 4th list\n",
    "two_abc = simList + abc_list\n",
    "print(two_abc)"
   ]
  },
  {
   "cell_type": "markdown",
   "id": "a7ab14b2",
   "metadata": {},
   "source": [
    "Homework 3.2"
   ]
  },
  {
   "cell_type": "code",
   "execution_count": 121,
   "id": "0f68f23f",
   "metadata": {},
   "outputs": [
    {
     "name": "stdout",
     "output_type": "stream",
     "text": [
      "timesTuple ... (20, 20.5, 'hello', 'True', 'range(1,3)', 20, 20.5, 'hello', 'True', 'range(1,3)', 20, 20.5, 'hello', 'True', 'range(1,3)')\n",
      "frtimes_tuple ... (20, 20.5, 'hello', 'True', 'range(1,3)', 'hello', 31, 45.55, 'Bears', 'Taxi Driver', 20, 20.5, 'hello', 'True', 'range(1,3)', 'hello', 31, 45.55, 'Bears', 'Taxi Driver', 20, 20.5, 'hello', 'True', 'range(1,3)', 'hello', 31, 45.55, 'Bears', 'Taxi Driver')\n",
      "hello\n",
      "Sorted Tuple : (5, 5, 7, 9, 9, 19)\n",
      "(9, 9, 7, 5)\n",
      "9\n",
      "5\n",
      "9\n",
      "7\n",
      "50\n",
      "(9, 9, 7, 5, 19, 5, 9, 9, 7, 5)\n"
     ]
    }
   ],
   "source": [
    "#11.\n",
    "f_tuple = (20, 20.5, \"hello\", \"True\", \"range(1,3)\")\n",
    "timesTuple = f_tuple * 3\n",
    "print(\"timesTuple ...\", timesTuple)\n",
    "r_tuple = (\"hello\", 31, 45.55, \"Bears\", \"Taxi Driver\",)\n",
    "fr_tuple = f_tuple + r_tuple\n",
    "frtimes_tuple = fr_tuple * 3\n",
    "print(\"frtimes_tuple ...\", frtimes_tuple)\n",
    "\n",
    "print(frtimes_tuple[12])\n",
    "\n",
    "sec_r_tuple = (9, 9 , 7, 5 ,19, 5)\n",
    "sortup_ = tuple(sorted(sec_r_tuple))  \n",
    "print('Sorted Tuple :', sortup_)  \n",
    "\n",
    "third_tuple = sec_r_tuple[0:4]\n",
    "print(third_tuple)\n",
    "\n",
    "(var_one, var_two, var_three, var_four) = third_tuple\n",
    "print(var_one)\n",
    "print(var_four)\n",
    "print(var_two)\n",
    "print(var_three)\n",
    "\n",
    "four_tuple = (50)\n",
    "print(four_tuple)\n",
    "\n",
    "fifth_tuple = sec_r_tuple + third_tuple\n",
    "print(fifth_tuple)"
   ]
  },
  {
   "cell_type": "code",
   "execution_count": 141,
   "id": "8b6da4b4",
   "metadata": {},
   "outputs": [
    {
     "name": "stdout",
     "output_type": "stream",
     "text": [
      "updated set:  {'strawberries', 'pineapple', 'blueberries', ('blueberries', 'pineapples', 'pears')}\n",
      "updated set:  {'pineapple', 'Jeep', 'strawberries', 'blueberries', ('blueberries', 'pineapples', 'pears')}\n",
      "{'pineapple', 'Jeep', 'Lambo', 'table', 'strawberries', 'gun', 'blueberries', 'horse', ('blueberries', 'pineapples', 'pears')}\n",
      "current third_set:   {'Jeep', 'Lambo', 'table', 'strawberries', 'gun', 'blueberries', 'horse', ('blueberries', 'pineapples', 'pears')}\n",
      "set()\n",
      "{'table', 'strawberries', 'gun', 'blueberries', 'horse', ('blueberries', 'pineapples', 'pears')}\n"
     ]
    }
   ],
   "source": [
    "#12.\n",
    "set = {\"blueberries\", \"pineapple\", \"strawberries\"}\n",
    "fruit_list = (\"blueberries\", \"pineapples\", \"pears\")\n",
    "set.add(fruit_list)\n",
    "print(\"updated set: \", set)\n",
    "set.add(\"Jeep\")\n",
    "print(\"updated set: \", set)\n",
    "\n",
    "second_set = {\"horse\", \"Lambo\", \"gun\", \"table\"}\n",
    "third_set = set.union(second_set)\n",
    "print(third_set)\n",
    "\n",
    "random = third_set.pop()\n",
    "print(\"current third_set:  \", third_set)\n",
    "\n",
    "set.clear()\n",
    "print(set)\n",
    "\n",
    "third_set.remove(\"Lambo\")\n",
    "third_set.discard(\"Jeep\")\n",
    "print(third_set)"
   ]
  },
  {
   "cell_type": "code",
   "execution_count": 158,
   "id": "db85c90d",
   "metadata": {},
   "outputs": [
    {
     "name": "stdout",
     "output_type": "stream",
     "text": [
      "\n",
      "Dictionary with the use of 5 values of different data types: \n",
      "{1: 'farm', 2: 5, 3: 50.5, 4: ('o', 'p'), 5: None}\n",
      "farm\n",
      "{1: 'Dakotah', 2: 5, 3: 50.5, 4: ('o', 'p'), 5: None}\n",
      "{1: 'Dakotah', 2: 5, 3: 50.5, 4: ('o', 'p'), 5: None, 6: 'grass'}\n",
      "{1: 'Dakotah', 2: 5, 3: 50.5, 4: ('o', 'p'), 5: None, 6: 'grass', 7: ['pep', 'mushroom', 'peppers', 'cheese']}\n",
      "dict_keys([1, 2, 3, 4, 5, 6, 7])\n",
      "dict_values(['Dakotah', 5, 50.5, ('o', 'p'), None, 'grass', ['pep', 'mushroom', 'peppers', 'cheese']])\n",
      "{1: 'Dakotah', 2: 5, 3: 50.5, 4: ('o', 'p'), 5: None, 6: 'grass', 7: ['pep', 'mushroom', 'peppers', 'cheese']}\n",
      "{2: 5, 3: 50.5, 4: ('o', 'p'), 5: None, 6: 'grass', 7: ['pep', 'mushroom', 'peppers', 'cheese']}\n",
      "{}\n"
     ]
    }
   ],
   "source": [
    "#13.\n",
    "Dict = {1: 'farm', 2: 5, 3: 50.5, 4: (\"o\", \"p\"), 5: None}\n",
    "print(\"\\nDictionary with the use of 5 values of different data types: \")\n",
    "print(Dict)\n",
    "\n",
    "print(Dict[1])\n",
    "\n",
    "Dict[1] = \"Dakotah\"\n",
    "print(Dict)\n",
    "\n",
    "Dict[6] = \"grass\"\n",
    "print(Dict)\n",
    "\n",
    "pizza_topping_list = [\"pep\", \"mushroom\", \"peppers\", \"cheese\"]\n",
    "Dict[7] = pizza_topping_list\n",
    "print(Dict)\n",
    "\n",
    "print(Dict.keys())\n",
    "\n",
    "print(Dict.values())\n",
    "\n",
    "\n",
    "Dict_2 = Dict.copy()\n",
    "print(Dict_2)\n",
    "\n",
    "Dict_2.pop(1)\n",
    "print(Dict_2)\n",
    "\n",
    "Dict_2.clear()\n",
    "print(Dict_2)"
   ]
  },
  {
   "cell_type": "code",
   "execution_count": null,
   "id": "19810411",
   "metadata": {},
   "outputs": [],
   "source": []
  }
 ],
 "metadata": {
  "kernelspec": {
   "display_name": "Python 3 (ipykernel)",
   "language": "python",
   "name": "python3"
  },
  "language_info": {
   "codemirror_mode": {
    "name": "ipython",
    "version": 3
   },
   "file_extension": ".py",
   "mimetype": "text/x-python",
   "name": "python",
   "nbconvert_exporter": "python",
   "pygments_lexer": "ipython3",
   "version": "3.10.9"
  }
 },
 "nbformat": 4,
 "nbformat_minor": 5
}
