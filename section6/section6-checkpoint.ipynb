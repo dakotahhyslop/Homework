{
 "cells": [
  {
   "cell_type": "markdown",
   "id": "b3c3db65",
   "metadata": {},
   "source": [
    "# Section 6 Homework – Capstone development\n",
    "\n",
    "## Due: Tuesday before class (30 May, 6:30pm CT)"
   ]
  },
  {
   "cell_type": "markdown",
   "id": "4b6a6e9f",
   "metadata": {},
   "source": [
    "### 1.\tCreate a definitive problem statement to be solved with data analytics.  \n",
    "•\tYour statement needs to be written.\n",
    "•\tThe statement should be 1-3 sentences.\n",
    "•\tProvide a brief overview of the topic if context is necessary to help understand the problem statement."
   ]
  },
  {
   "cell_type": "markdown",
   "id": "f55a8727",
   "metadata": {},
   "source": [
    "### Definitive problem statement to be solved with data analytics:\n",
    "- Financial statements are used for various reasons; however, they are mainly used to identify trends, analyze financial health, and to compare companies. By finding some of the positive and negative trends for each company's health, which company would be better to invest into long-term?\n"
   ]
  },
  {
   "cell_type": "markdown",
   "id": "e50ef5e6",
   "metadata": {},
   "source": [
    "### 2.\tProvide your datasets.\n",
    "•\tIn .csv / sql format\n",
    "•\t-or- a website that will be accessed with webscraping/API.  If possible, include the Python code to be used for accessing this data.\n",
    "•\tProvide an explanation of the datasets you submit."
   ]
  },
  {
   "cell_type": "markdown",
   "id": "affa5e11",
   "metadata": {},
   "source": [
    "### Datasets\n",
    "\n",
    "- API website:\n",
    "https://www.alphavantage.co/"
   ]
  },
  {
   "cell_type": "code",
   "execution_count": null,
   "id": "836c8a04",
   "metadata": {},
   "outputs": [],
   "source": [
    "# Overall code for importing, organizing, and manipulating datasets:\n",
    "import pandas as pd\n",
    "import requests\n",
    "import json\n",
    "import numpy as np\n",
    "\n",
    "# Company Overview Dataset:\n",
    "import requests\n",
    "\n",
    "url = 'https://www.alphavantage.co/query?function=OVERVIEW&symbol={ticker}&apikey=xxxxxxxxx'\n",
    "r = requests.get(url)\n",
    "data = r.json()\n",
    "\n",
    "print(data)\n",
    "\n",
    "# Income Statement Dataset: \n",
    "import requests\n",
    "\n",
    "url = 'https://www.alphavantage.co/query?function=INCOME_STATEMENT&symbol={ticker}&apikey=xxxxxxxxxx'\n",
    "r = requests.get(url)\n",
    "data = r.json()\n",
    "\n",
    "# Balance Sheet Dataset:\n",
    "import requests\n",
    "\n",
    "url = 'https://www.alphavantage.co/query?function=BALANCE_SHEET&symbol={ticker}&apikey=xxxxxxxxxx'\n",
    "r = requests.get(url)\n",
    "data = r.json()\n",
    "\n",
    "# Cash Flow Statement Dataset:\n",
    "import requests\n",
    "\n",
    "url = 'https://www.alphavantage.co/query?function=CASH_FLOW&symbol={ticker}&apikey=xxxxxxxxxx'\n",
    "r = requests.get(url)\n",
    "data = r.json()"
   ]
  },
  {
   "cell_type": "markdown",
   "id": "2c012e2e",
   "metadata": {},
   "source": [
    "- Explanation of Datasets:\n",
    "All three financial statements are neccesary in order to accurately discover any trends and analyze company health. The \"overview\" dataset will be used to perform a financial ratio analysis since this API already has all of the financial ratios calculated from historical data."
   ]
  },
  {
   "cell_type": "markdown",
   "id": "2bfe8dfc",
   "metadata": {},
   "source": [
    "### 3.\tDescribe your plan on how to use this data to answer your problem statement. \n",
    "•\tCreate a brief write-up (typically 3-5 sentences) describing your plan of what you intend to do with that data to solve your question.\n"
   ]
  },
  {
   "cell_type": "markdown",
   "id": "9b315f0f",
   "metadata": {},
   "source": [
    "### My plan on how to use this data to answer my problem statement.\n",
    "\n",
    "- My plan is to take each dataset going back to 2018 (the furthest this website will let me go back) and perform a trend analysis on each one. A trend analysis is done by taking each line item in all three statements and calculating the percent change from period to period. Then, I will use the \"overview\" data to perform a financial ratio analysis to compare Apple and Microsoft. Once that is done, I will analyze the data to look for possible trends, major differences, and overall financial health of each company to decide which one is better suited for long-term investment. For the trend analysis, I will build a DataFrame for each financial statement and then calculate the percent change within them. For the financial ratio analysis, I will create one DataFrame with Microsoft and Apples financial ratios side by side to to make a direct comparison of the two companies.  "
   ]
  }
 ],
 "metadata": {
  "kernelspec": {
   "display_name": "Python 3 (ipykernel)",
   "language": "python",
   "name": "python3"
  },
  "language_info": {
   "codemirror_mode": {
    "name": "ipython",
    "version": 3
   },
   "file_extension": ".py",
   "mimetype": "text/x-python",
   "name": "python",
   "nbconvert_exporter": "python",
   "pygments_lexer": "ipython3",
   "version": "3.10.9"
  }
 },
 "nbformat": 4,
 "nbformat_minor": 5
}
